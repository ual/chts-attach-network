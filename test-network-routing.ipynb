{
 "cells": [
  {
   "cell_type": "markdown",
   "metadata": {},
   "source": [
    "# Calculate network routes between origins and destinations"
   ]
  },
  {
   "cell_type": "code",
   "execution_count": 1,
   "metadata": {},
   "outputs": [],
   "source": [
    "import matplotlib.pyplot as plt\n",
    "import osmnx as ox\n",
    "import networkx as nx\n",
    "import pandas as pd"
   ]
  },
  {
   "cell_type": "markdown",
   "metadata": {},
   "source": [
    "## Load network and ODs"
   ]
  },
  {
   "cell_type": "code",
   "execution_count": 2,
   "metadata": {},
   "outputs": [
    {
     "data": {
      "text/plain": [
       "10219"
      ]
     },
     "execution_count": 2,
     "metadata": {},
     "output_type": "execute_result"
    }
   ],
   "source": [
    "# load the origin-destination node pairs\n",
    "od = pd.read_csv('data/od.csv')\n",
    "len(od)"
   ]
  },
  {
   "cell_type": "code",
   "execution_count": 3,
   "metadata": {},
   "outputs": [
    {
     "name": "stdout",
     "output_type": "stream",
     "text": [
      "Wall time: 49.5 s\n"
     ]
    }
   ],
   "source": [
    "%%time\n",
    "# load the bay area's full, drivable, strongly-connected street network graph\n",
    "G = ox.load_graphml('bayarea_full_simplified_strongly.graphml', folder='data/network')"
   ]
  },
  {
   "cell_type": "markdown",
   "metadata": {},
   "source": [
    "## Calculate routes between origins and destinations\n",
    "\n",
    "#### First, look at topological graph distance (number of edges traversed)"
   ]
  },
  {
   "cell_type": "code",
   "execution_count": 4,
   "metadata": {},
   "outputs": [
    {
     "name": "stdout",
     "output_type": "stream",
     "text": [
      "Wall time: 2min\n"
     ]
    }
   ],
   "source": [
    "%%time\n",
    "# calculate shortest path topological distance (edges) between rows' origin and destination nodes\n",
    "def network_distance(row):\n",
    "    return nx.shortest_path_length(G, source=row['orig'], target=row['dest'])\n",
    "\n",
    "od['network_distance_e'] = od.apply(network_distance, axis=1)"
   ]
  },
  {
   "cell_type": "code",
   "execution_count": 5,
   "metadata": {},
   "outputs": [
    {
     "data": {
      "text/plain": [
       "count    10219.000000\n",
       "mean        49.146981\n",
       "std         27.768560\n",
       "min          0.000000\n",
       "25%         30.000000\n",
       "50%         45.000000\n",
       "75%         64.000000\n",
       "max        237.000000\n",
       "Name: network_distance_e, dtype: float64"
      ]
     },
     "execution_count": 5,
     "metadata": {},
     "output_type": "execute_result"
    }
   ],
   "source": [
    "od['network_distance_e'].describe()"
   ]
  },
  {
   "cell_type": "code",
   "execution_count": 6,
   "metadata": {},
   "outputs": [
    {
     "data": {
      "image/png": "[encoded data removed]",
      "text/plain": [
       "<Figure size 432x288 with 1 Axes>"
      ]
     },
     "metadata": {},
     "output_type": "display_data"
    }
   ],
   "source": [
    "ax = (od['network_distance_e']).hist(bins=40)\n",
    "ax.set_xlim(left=0)\n",
    "ax.set_xlabel('commute distance (edges traversed)')\n",
    "plt.show()"
   ]
  },
  {
   "cell_type": "markdown",
   "metadata": {},
   "source": [
    "#### Second, look at metric distance (meters traveled)"
   ]
  },
  {
   "cell_type": "code",
   "execution_count": 7,
   "metadata": {},
   "outputs": [
    {
     "name": "stdout",
     "output_type": "stream",
     "text": [
      "Wall time: 23min 14s\n"
     ]
    }
   ],
   "source": [
    "%%time\n",
    "# calculate shortest path metric distance (meters) between rows' origin and destination nodes\n",
    "def network_distance(row):\n",
    "    return nx.shortest_path_length(G, source=row['orig'], target=row['dest'], weight='length')\n",
    "\n",
    "od['network_distance_m'] = od.apply(network_distance, axis=1)"
   ]
  },
  {
   "cell_type": "code",
   "execution_count": 8,
   "metadata": {},
   "outputs": [
    {
     "data": {
      "text/plain": [
       "count     10219.000000\n",
       "mean      19674.502339\n",
       "std       19238.091184\n",
       "min           0.000000\n",
       "25%        5549.094500\n",
       "50%       13357.150000\n",
       "75%       27749.834000\n",
       "max      165358.582000\n",
       "Name: network_distance_m, dtype: float64"
      ]
     },
     "execution_count": 8,
     "metadata": {},
     "output_type": "execute_result"
    }
   ],
   "source": [
    "od['network_distance_m'].describe()"
   ]
  },
  {
   "cell_type": "code",
   "execution_count": 9,
   "metadata": {},
   "outputs": [
    {
     "data": {
      "image/png": "[encoded data removed]",
      "text/plain": [
       "<Figure size 432x288 with 1 Axes>"
      ]
     },
     "metadata": {},
     "output_type": "display_data"
    }
   ],
   "source": [
    "ax = (od['network_distance_m']/1e3).hist(bins=40)\n",
    "ax.set_xlim(left=0)\n",
    "ax.set_xlabel('commute distance (km)')\n",
    "plt.show()"
   ]
  },
  {
   "cell_type": "markdown",
   "metadata": {},
   "source": [
    "## Save to disk"
   ]
  },
  {
   "cell_type": "code",
   "execution_count": 10,
   "metadata": {},
   "outputs": [
    {
     "data": {
      "text/html": [
       "<div>\n",
       "<style scoped>\n",
       "    .dataframe tbody tr th:only-of-type {\n",
       "        vertical-align: middle;\n",
       "    }\n",
       "\n",
       "    .dataframe tbody tr th {\n",
       "        vertical-align: top;\n",
       "    }\n",
       "\n",
       "    .dataframe thead th {\n",
       "        text-align: right;\n",
       "    }\n",
       "</style>\n",
       "<table border=\"1\" class=\"dataframe\">\n",
       "  <thead>\n",
       "    <tr style=\"text-align: right;\">\n",
       "      <th></th>\n",
       "      <th>SAMPN</th>\n",
       "      <th>PERNO</th>\n",
       "      <th>orig</th>\n",
       "      <th>dest</th>\n",
       "      <th>network_distance_e</th>\n",
       "      <th>network_distance_m</th>\n",
       "    </tr>\n",
       "  </thead>\n",
       "  <tbody>\n",
       "    <tr>\n",
       "      <th>0</th>\n",
       "      <td>1033944</td>\n",
       "      <td>1</td>\n",
       "      <td>65335448</td>\n",
       "      <td>65303721</td>\n",
       "      <td>36</td>\n",
       "      <td>10456.017</td>\n",
       "    </tr>\n",
       "    <tr>\n",
       "      <th>1</th>\n",
       "      <td>1035274</td>\n",
       "      <td>2</td>\n",
       "      <td>65512687</td>\n",
       "      <td>295120796</td>\n",
       "      <td>63</td>\n",
       "      <td>43757.018</td>\n",
       "    </tr>\n",
       "    <tr>\n",
       "      <th>2</th>\n",
       "      <td>1041304</td>\n",
       "      <td>1</td>\n",
       "      <td>65432016</td>\n",
       "      <td>65500241</td>\n",
       "      <td>16</td>\n",
       "      <td>3855.411</td>\n",
       "    </tr>\n",
       "    <tr>\n",
       "      <th>3</th>\n",
       "      <td>1041494</td>\n",
       "      <td>4</td>\n",
       "      <td>2452123264</td>\n",
       "      <td>57889082</td>\n",
       "      <td>47</td>\n",
       "      <td>18071.854</td>\n",
       "    </tr>\n",
       "    <tr>\n",
       "      <th>4</th>\n",
       "      <td>1041766</td>\n",
       "      <td>1</td>\n",
       "      <td>65392530</td>\n",
       "      <td>65368988</td>\n",
       "      <td>74</td>\n",
       "      <td>22879.231</td>\n",
       "    </tr>\n",
       "  </tbody>\n",
       "</table>\n",
       "</div>"
      ],
      "text/plain": [
       "     SAMPN  PERNO        orig       dest  network_distance_e  \\\n",
       "0  1033944      1    65335448   65303721                  36   \n",
       "1  1035274      2    65512687  295120796                  63   \n",
       "2  1041304      1    65432016   65500241                  16   \n",
       "3  1041494      4  2452123264   57889082                  47   \n",
       "4  1041766      1    65392530   65368988                  74   \n",
       "\n",
       "   network_distance_m  \n",
       "0           10456.017  \n",
       "1           43757.018  \n",
       "2            3855.411  \n",
       "3           18071.854  \n",
       "4           22879.231  "
      ]
     },
     "execution_count": 10,
     "metadata": {},
     "output_type": "execute_result"
    }
   ],
   "source": [
    "# save to disk\n",
    "od.to_csv('data/od_distances.csv', index=False, encoding='utf-8')\n",
    "od.head()"
   ]
  },
  {
   "cell_type": "code",
   "execution_count": null,
   "metadata": {},
   "outputs": [],
   "source": []
  }
 ],
 "metadata": {
  "kernelspec": {
   "display_name": "Python 3",
   "language": "python",
   "name": "python3"
  },
  "language_info": {
   "codemirror_mode": {
    "name": "ipython",
    "version": 3
   },
   "file_extension": ".py",
   "mimetype": "text/x-python",
   "name": "python",
   "nbconvert_exporter": "python",
   "pygments_lexer": "ipython3",
   "version": "3.6.5"
  }
 },
 "nbformat": 4,
 "nbformat_minor": 2
}
