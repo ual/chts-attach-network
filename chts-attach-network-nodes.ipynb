{
 "cells": [
  {
   "cell_type": "markdown",
   "metadata": {},
   "source": [
    "# Attach nearest network nodes to CHTS homes and workplaces"
   ]
  },
  {
   "cell_type": "code",
   "execution_count": 1,
   "metadata": {},
   "outputs": [],
   "source": [
    "import numpy as np\n",
    "import pandas as pd\n",
    "from sklearn.neighbors import BallTree"
   ]
  },
  {
   "cell_type": "code",
   "execution_count": 2,
   "metadata": {},
   "outputs": [],
   "source": [
    "# identify bay area counties by fips code\n",
    "bayarea = {'Alameda':'001',\n",
    "           'Contra Costa':'013',\n",
    "           'Marin':'041',\n",
    "           'Napa':'055',\n",
    "           'San Francisco':'075',\n",
    "           'San Mateo':'081',\n",
    "           'Santa Clara':'085',\n",
    "           'Solano':'095',\n",
    "           'Sonoma':'097'}\n",
    "\n",
    "state_counties = ['06{}'.format(county) for county in bayarea.values()]"
   ]
  },
  {
   "cell_type": "markdown",
   "metadata": {},
   "source": [
    "## Load persons home and work data"
   ]
  },
  {
   "cell_type": "code",
   "execution_count": 3,
   "metadata": {},
   "outputs": [],
   "source": [
    "# load persons and workplace data\n",
    "persons = pd.read_csv('data/chts/LookUp_PER.csv', dtype={'WBLOCK':str})\n",
    "persons = persons[['SAMPN', 'PERNO', 'WXCORD', 'WYCORD', 'WBLOCK']]\n",
    "mask = persons['WBLOCK'].str.slice(0, 5).isin(state_counties)\n",
    "persons = persons[mask]"
   ]
  },
  {
   "cell_type": "code",
   "execution_count": 4,
   "metadata": {},
   "outputs": [],
   "source": [
    "# load homes data\n",
    "homes = pd.read_csv('data/chts/LookUp_Home.csv', dtype={'HBLOCK':str})\n",
    "homes = homes[['SAMPN', 'HXCORD', 'HYCORD', 'HBLOCK']]\n",
    "mask = homes['HBLOCK'].str.slice(0, 5).isin(state_counties)\n",
    "homes = homes[mask]"
   ]
  },
  {
   "cell_type": "code",
   "execution_count": 5,
   "metadata": {},
   "outputs": [],
   "source": [
    "# merge homes and workplaces for each person\n",
    "df = pd.merge(persons, homes, how='inner', on='SAMPN').dropna()\n",
    "df = df.set_index(['SAMPN', 'PERNO'])\n",
    "assert df.index.is_unique"
   ]
  },
  {
   "cell_type": "markdown",
   "metadata": {},
   "source": [
    "## Find nearest network node to home and work locations\n",
    "\n",
    "For fast nearest-neighbor search, use a ball tree with the haversine distance metric. This will be more accurate than using Euclidean distance at this spatial scale, and faster than projecting data to a metric projection and then using Euclidean distance. If minor inaccuracy is acceptible in the name of greater speed, just use scipy's basic cKDTree and Euclidean distance instead."
   ]
  },
  {
   "cell_type": "code",
   "execution_count": 6,
   "metadata": {},
   "outputs": [],
   "source": [
    "# load the network nodes\n",
    "nodes = pd.read_csv('data/network/bay_area_full_strongly_nodes.csv')\n",
    "nodes = nodes.set_index('osmid')\n",
    "assert nodes.index.is_unique"
   ]
  },
  {
   "cell_type": "code",
   "execution_count": 7,
   "metadata": {},
   "outputs": [],
   "source": [
    "# haversine requires data in form of [lat, lng] and inputs/outputs in units of radians\n",
    "nodes_rad = np.deg2rad(nodes[['y', 'x']])\n",
    "homes_rad = np.deg2rad(df[['HYCORD', 'HXCORD']])\n",
    "works_rad = np.deg2rad(df[['WYCORD', 'WXCORD']])"
   ]
  },
  {
   "cell_type": "code",
   "execution_count": 8,
   "metadata": {},
   "outputs": [],
   "source": [
    "# build the tree for fast nearest-neighbor search\n",
    "tree = BallTree(nodes_rad, metric='haversine')"
   ]
  },
  {
   "cell_type": "code",
   "execution_count": 9,
   "metadata": {},
   "outputs": [],
   "source": [
    "# query the tree for nearest node to each home\n",
    "idx = tree.query(homes_rad, return_distance=False)\n",
    "df['HNODE'] = nodes.iloc[idx[:,0]].index"
   ]
  },
  {
   "cell_type": "code",
   "execution_count": 10,
   "metadata": {},
   "outputs": [],
   "source": [
    "# query the tree for nearest node to each workplace\n",
    "idx = tree.query(works_rad, return_distance=False)\n",
    "df['WNODE'] = nodes.iloc[idx[:,0]].index"
   ]
  },
  {
   "cell_type": "markdown",
   "metadata": {},
   "source": [
    "## Save to disk"
   ]
  },
  {
   "cell_type": "code",
   "execution_count": 11,
   "metadata": {},
   "outputs": [
    {
     "data": {
      "text/plain": [
       "24"
      ]
     },
     "execution_count": 11,
     "metadata": {},
     "output_type": "execute_result"
    }
   ],
   "source": [
    "# how many home and work locations are so close that they resolve to same network node?\n",
    "len(df[df['HNODE']==df['WNODE']])"
   ]
  },
  {
   "cell_type": "code",
   "execution_count": 12,
   "metadata": {},
   "outputs": [],
   "source": [
    "# save ODs to disk\n",
    "df_save = df[['HNODE', 'WNODE']].rename(columns={'HNODE':'orig', 'WNODE':'dest'})\n",
    "df_save.to_csv('data/od.csv', index=True, encoding='utf-8')"
   ]
  },
  {
   "cell_type": "code",
   "execution_count": null,
   "metadata": {},
   "outputs": [],
   "source": []
  }
 ],
 "metadata": {
  "kernelspec": {
   "display_name": "Python 3",
   "language": "python",
   "name": "python3"
  },
  "language_info": {
   "codemirror_mode": {
    "name": "ipython",
    "version": 3
   },
   "file_extension": ".py",
   "mimetype": "text/x-python",
   "name": "python",
   "nbconvert_exporter": "python",
   "pygments_lexer": "ipython3",
   "version": "3.6.4"
  }
 },
 "nbformat": 4,
 "nbformat_minor": 2
}
